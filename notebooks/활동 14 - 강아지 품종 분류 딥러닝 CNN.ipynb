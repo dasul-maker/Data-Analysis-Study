{
  "nbformat": 4,
  "nbformat_minor": 0,
  "metadata": {
    "colab": {
      "provenance": []
    },
    "kernelspec": {
      "name": "python3",
      "display_name": "Python 3"
    },
    "language_info": {
      "name": "python"
    }
  },
  "cells": [
    {
      "cell_type": "code",
      "execution_count": null,
      "metadata": {
        "id": "cNZP_19H1ZZy"
      },
      "outputs": [],
      "source": [
        "import os, glob                     # 파일 경로 탐색용\n",
        "import numpy as np                 # 배열 연산\n",
        "from PIL import Image              # 이미지 처리용\n",
        "import matplotlib.pyplot as plt    # 이미지 시각화\n",
        "from sklearn.model_selection import train_test_split  # 학습/검증 데이터 분리\n",
        "from tensorflow.python.keras.utils import np_utils    # one-hot 인코딩\n"
      ]
    },
    {
      "cell_type": "code",
      "source": [
        "root_dir = \"/content/drive/MyDrive/data/강아지분류/dog/\"\n",
        "categories = [\"말티즈\", \"요크셔\", \"푸들\"]\n",
        "num_class = len(categories)\n",
        "image_width = 64\n",
        "image_height = 64\n"
      ],
      "metadata": {
        "id": "6wjv6NG510yk"
      },
      "execution_count": null,
      "outputs": []
    },
    {
      "cell_type": "code",
      "source": [
        "X = []  # 이미지 저장 리스트\n",
        "Y = []  # 이미지의 카테고리 인덱스 저장 리스트\n",
        "\n",
        "for idx, category in enumerate(categories):  # 카테고리 처리\n",
        "    image_dir = root_dir + category\n",
        "    files = glob.glob(image_dir + \"/*.*\")  # 모든 확장자 포함 처리\n",
        "\n",
        "    for i, f in enumerate(files):  # 각 카테고리의 이미지 파일 처리\n",
        "        img = Image.open(f)\n",
        "        img = img.convert(\"RGB\")\n",
        "        img = img.resize((image_width, image_height))\n",
        "        data = np.asarray(img)\n",
        "        X.append(data)\n",
        "        Y.append(idx)\n",
        "        print(f\"{f} : {i+1}\")  # 파일 경로와 인덱스 출력\n",
        "\n",
        "    print(f\"{image_dir} 폴더에서 {len(files)}개 이미지 처리 완료\")\n",
        "\n",
        "# 작업 확인용 출력\n",
        "print(f\"image shape : {X[0].shape}\")  # 첫 이미지의 shape 확인\n",
        "print(\"X 데이터 총 개수:\", len(X))   # 이미지 파일 수\n",
        "print(\"Y 데이터 총 개수:\", len(Y))   # 라벨 수\n"
      ],
      "metadata": {
        "id": "jABSGthC52Mq"
      },
      "execution_count": null,
      "outputs": []
    },
    {
      "cell_type": "code",
      "source": [
        "np_x = np.array(X)\n",
        "np_y = np.array(Y)\n",
        "print(np_x.shape)\n",
        "print(np_y.shape)\n"
      ],
      "metadata": {
        "id": "27rS3WL22CEW"
      },
      "execution_count": null,
      "outputs": []
    },
    {
      "cell_type": "code",
      "source": [
        "np_x = np.array(X)\n",
        "np_y = np.array(Y)\n",
        "\n",
        "print(np_x.shape)\n",
        "# 작업 확인용 출력 ⇒ (이미지 총 개수, 가로 크기, 세로 크기, 색상 채널 수)\n",
        "\n",
        "print(np_y.shape)\n",
        "# 작업 확인용 출력 ⇒ (이미지 총 개수,)\n"
      ],
      "metadata": {
        "id": "kP-p1NjY2DiR"
      },
      "execution_count": null,
      "outputs": []
    },
    {
      "cell_type": "code",
      "source": [
        "X_train, X_test, Y_train, Y_test = train_test_split(np_x, np_y, test_size=0.2, random_state=42)\n"
      ],
      "metadata": {
        "id": "ACUb80mE68lq"
      },
      "execution_count": null,
      "outputs": []
    },
    {
      "cell_type": "code",
      "source": [
        "X_train = X_train.astype(\"float\") / 255\n",
        "X_test = X_test.astype(\"float\") / 255\n"
      ],
      "metadata": {
        "id": "uPRRAcca6-SE"
      },
      "execution_count": null,
      "outputs": []
    },
    {
      "cell_type": "code",
      "source": [
        "Y_train = np_utils.to_categorical(Y_train, num_class)\n",
        "Y_test = np_utils.to_categorical(Y_test, num_class)\n",
        "\n",
        "print(Y_train[0])\n"
      ],
      "metadata": {
        "id": "ISvW_AYS7AAK"
      },
      "execution_count": null,
      "outputs": []
    },
    {
      "cell_type": "code",
      "source": [
        "from keras.models import Sequential\n",
        "from keras.layers import Dense, Flatten, Conv2D, MaxPooling2D\n",
        "from keras.callbacks import ModelCheckpoint, EarlyStopping\n"
      ],
      "metadata": {
        "id": "5QpARAtw7A9a"
      },
      "execution_count": null,
      "outputs": []
    },
    {
      "cell_type": "code",
      "source": [
        "input_shape = (image_width, image_height, 3)\n"
      ],
      "metadata": {
        "id": "zSH7niaJ7S-F"
      },
      "execution_count": null,
      "outputs": []
    },
    {
      "cell_type": "code",
      "source": [
        "model = Sequential()\n",
        "model.add(Conv2D(32, kernel_size=(3, 3), input_shape=input_shape, activation='relu'))\n",
        "model.add(MaxPooling2D(pool_size=(2, 2)))\n",
        "model.add(Conv2D(64, kernel_size=(3, 3), activation='relu'))\n",
        "model.add(MaxPooling2D(pool_size=(2, 2)))\n",
        "model.add(Flatten())                           # 2D → 1D 벡터\n",
        "model.add(Dense(128, activation='relu'))       # 은닉층\n",
        "model.add(Dense(num_class, activation='softmax'))  # 출력층 (클래스 수만큼 노드)\n"
      ],
      "metadata": {
        "id": "PEqenF3F7UIr"
      },
      "execution_count": null,
      "outputs": []
    },
    {
      "cell_type": "code",
      "source": [
        "model.compile(\n",
        "    loss=\"categorical_crossentropy\",\n",
        "    optimizer=\"adam\",\n",
        "    metrics=[\"accuracy\"]\n",
        ")\n"
      ],
      "metadata": {
        "id": "xSVESO_F7hQW"
      },
      "execution_count": null,
      "outputs": []
    },
    {
      "cell_type": "code",
      "source": [
        "MODEL_DIR = root_dir + 'model/'\n",
        "if not os.path.exists(MODEL_DIR):\n",
        "    os.mkdir(MODEL_DIR)\n",
        "modelpath = MODEL_DIR + \"{epoch:02d}-{val_loss:.4f}.hdf5\"\n",
        "checkpointer = ModelCheckpoint(\n",
        "    filepath=modelpath,\n",
        "    monitor='val_loss',\n",
        "    verbose=1,\n",
        "    save_best_only=True\n",
        ")\n",
        "early_stopping_callback = EarlyStopping(\n",
        "    monitor='val_loss',\n",
        "    patience=5\n",
        ")\n"
      ],
      "metadata": {
        "id": "M01l7NEn7i6F"
      },
      "execution_count": null,
      "outputs": []
    },
    {
      "cell_type": "code",
      "source": [
        "model.fit(\n",
        "    X_train, Y_train,\n",
        "    validation_data=(X_test, Y_test),\n",
        "    epochs=30,\n",
        "    batch_size=20,\n",
        "    verbose=0,\n",
        "    callbacks=[early_stopping_callback, checkpointer]\n",
        ")\n"
      ],
      "metadata": {
        "id": "0dGy8J3t72CU"
      },
      "execution_count": null,
      "outputs": []
    },
    {
      "cell_type": "code",
      "source": [
        "score = model.evaluate(X_test, Y_test)\n",
        "print('loss =', score[0])\n",
        "print('accuracy =', score[1])\n"
      ],
      "metadata": {
        "id": "wFVTe42L8AtF"
      },
      "execution_count": null,
      "outputs": []
    },
    {
      "cell_type": "code",
      "source": [
        "new_files = glob.glob(root_dir + \"new/*.*\")\n",
        "new_files"
      ],
      "metadata": {
        "id": "rSXJY6358D8V"
      },
      "execution_count": null,
      "outputs": []
    },
    {
      "cell_type": "code",
      "source": [
        "image_size = 64\n",
        "new_img = []   # PIL 이미지 객체 저장용\n",
        "new_X = []     # 정규화된 NumPy 배열 저장용\n",
        "\n",
        "for i, fname in enumerate(new_files):\n",
        "    img = Image.open(fname)                # 이미지 열기\n",
        "    img = img.convert(\"RGB\")               # RGB로 변환\n",
        "    img = img.resize((image_size, image_size))  # 64x64로 리사이즈\n",
        "    new_img.append(img)                    # PIL 객체 저장\n",
        "\n",
        "    new_data = np.asarray(img)             # 배열로 변환\n",
        "    new_data = new_data.astype(\"float\") / 255  # 정규화\n",
        "    new_X.append(new_data)                 # 리스트에 추가\n",
        "\n",
        "new_X = np.array(new_X)                    # 배열로 변환\n"
      ],
      "metadata": {
        "id": "WFqgsfXw8ZTc"
      },
      "execution_count": null,
      "outputs": []
    },
    {
      "cell_type": "code",
      "source": [
        "new_Predict = model.predict(new_X)\n"
      ],
      "metadata": {
        "id": "Oj2-3zkp8bxO"
      },
      "execution_count": null,
      "outputs": []
    },
    {
      "cell_type": "code",
      "source": [
        "for i, c in enumerate(new_Predict):\n",
        "plt.figure(figsize=(1.5, 1.5))\n",
        "plt.imshow(new_img[i])\n",
        "plt.axis('off')\n",
        "plt.show()\n",
        "\n",
        "top_1 = c.argmax()\n",
        "if c[top_1] > 0.78:\n",
        "    print(f\"입력:{new_files[i]} => 예측: {categories[top_1]} / Score={c[top_1]*100:.2f}%\\n\")\n",
        "else:\n",
        "    top_2 = np.argsort(c)[-2]\n",
        "    print(f\"입력:{new_files[i]} => 예측: {categories[top_1]} ({c[top_1]*100:.2f}%) 와 {categories[top_2]} ({c[top_2]*100:.2f}%)의 믹스견으로 추정됩니다.\\n\")\n"
      ],
      "metadata": {
        "id": "t8dBcr2l8xlc"
      },
      "execution_count": null,
      "outputs": []
    }
  ]
}