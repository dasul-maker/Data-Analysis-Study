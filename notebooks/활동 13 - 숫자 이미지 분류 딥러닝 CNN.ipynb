{
  "nbformat": 4,
  "nbformat_minor": 0,
  "metadata": {
    "colab": {
      "provenance": []
    },
    "kernelspec": {
      "name": "python3",
      "display_name": "Python 3"
    },
    "language_info": {
      "name": "python"
    }
  },
  "cells": [
    {
      "cell_type": "code",
      "execution_count": null,
      "metadata": {
        "colab": {
          "base_uri": "https://localhost:8080/"
        },
        "id": "WuRInAPFvMJq",
        "outputId": "ba14d080-f069-464b-fe62-8927269ca75c"
      },
      "outputs": [
        {
          "output_type": "stream",
          "name": "stdout",
          "text": [
            "Downloading data from https://storage.googleapis.com/tensorflow/tf-keras-datasets/mnist.npz\n",
            "\u001b[1m11490434/11490434\u001b[0m \u001b[32m━━━━━━━━━━━━━━━━━━━━\u001b[0m\u001b[37m\u001b[0m \u001b[1m0s\u001b[0m 0us/step\n"
          ]
        }
      ],
      "source": [
        "# 데이터 수집, 준비, 탐색\n",
        "from keras.datasets import mnist\n",
        "(X_train_0, Y_train_0), (X_test_0, Y_test_0) = mnist.load_data()\n"
      ]
    },
    {
      "cell_type": "code",
      "source": [
        "print(\"학습 데이터 수 : %d\" % (X_train_0.shape[0]))\n",
        "print(\"평가 데이터 수 : %d\" % (X_test_0.shape[0]))\n"
      ],
      "metadata": {
        "colab": {
          "base_uri": "https://localhost:8080/"
        },
        "id": "Kzx40-jbvgIH",
        "outputId": "e4d6638f-b0a3-48b3-d0c4-642a0ec89de8"
      },
      "execution_count": null,
      "outputs": [
        {
          "output_type": "stream",
          "name": "stdout",
          "text": [
            "학습 데이터 수 : 60000\n",
            "평가 데이터 수 : 10000\n"
          ]
        }
      ]
    },
    {
      "cell_type": "code",
      "source": [
        "import matplotlib.pyplot as plt\n"
      ],
      "metadata": {
        "id": "dFiBur7gvjM7"
      },
      "execution_count": null,
      "outputs": []
    },
    {
      "cell_type": "code",
      "source": [
        "plt.imshow(X_train_0[0], cmap='Greys')\n",
        "plt.show()\n"
      ],
      "metadata": {
        "colab": {
          "base_uri": "https://localhost:8080/",
          "height": 430
        },
        "id": "jvxAbqRPvrJA",
        "outputId": "b5f15666-5c84-4e2a-f7df-c4d6ae817f90"
      },
      "execution_count": null,
      "outputs": [
        {
          "output_type": "display_data",
          "data": {
            "text/plain": [
              "<Figure size 640x480 with 1 Axes>"
            ],
            "image/png": "[encoded data removed]"
          },
          "metadata": {}
        }
      ]
    },
    {
      "cell_type": "code",
      "source": [
        "import sys\n",
        "\n",
        "for x in X_train_0[0]:\n",
        "    for i in x:\n",
        "        sys.stdout.write('%4d' % i)\n",
        "    sys.stdout.write('\\n')\n"
      ],
      "metadata": {
        "colab": {
          "base_uri": "https://localhost:8080/"
        },
        "id": "BFeBIQiWvuyb",
        "outputId": "13544d60-d7ea-49b1-bfe9-e72c89c4395f"
      },
      "execution_count": null,
      "outputs": [
        {
          "output_type": "stream",
          "name": "stdout",
          "text": [
            "   0   0   0   0   0   0   0   0   0   0   0   0   0   0   0   0   0   0   0   0   0   0   0   0   0   0   0   0\n",
            "   0   0   0   0   0   0   0   0   0   0   0   0   0   0   0   0   0   0   0   0   0   0   0   0   0   0   0   0\n",
            "   0   0   0   0   0   0   0   0   0   0   0   0   0   0   0   0   0   0   0   0   0   0   0   0   0   0   0   0\n",
            "   0   0   0   0   0   0   0   0   0   0   0   0   0   0   0   0   0   0   0   0   0   0   0   0   0   0   0   0\n",
            "   0   0   0   0   0   0   0   0   0   0   0   0   0   0   0   0   0   0   0   0   0   0   0   0   0   0   0   0\n",
            "   0   0   0   0   0   0   0   0   0   0   0   0   3  18  18  18 126 136 175  26 166 255 247 127   0   0   0   0\n",
            "   0   0   0   0   0   0   0   0  30  36  94 154 170 253 253 253 253 253 225 172 253 242 195  64   0   0   0   0\n",
            "   0   0   0   0   0   0   0  49 238 253 253 253 253 253 253 253 253 251  93  82  82  56  39   0   0   0   0   0\n",
            "   0   0   0   0   0   0   0  18 219 253 253 253 253 253 198 182 247 241   0   0   0   0   0   0   0   0   0   0\n",
            "   0   0   0   0   0   0   0   0  80 156 107 253 253 205  11   0  43 154   0   0   0   0   0   0   0   0   0   0\n",
            "   0   0   0   0   0   0   0   0   0  14   1 154 253  90   0   0   0   0   0   0   0   0   0   0   0   0   0   0\n",
            "   0   0   0   0   0   0   0   0   0   0   0 139 253 190   2   0   0   0   0   0   0   0   0   0   0   0   0   0\n",
            "   0   0   0   0   0   0   0   0   0   0   0  11 190 253  70   0   0   0   0   0   0   0   0   0   0   0   0   0\n",
            "   0   0   0   0   0   0   0   0   0   0   0   0  35 241 225 160 108   1   0   0   0   0   0   0   0   0   0   0\n",
            "   0   0   0   0   0   0   0   0   0   0   0   0   0  81 240 253 253 119  25   0   0   0   0   0   0   0   0   0\n",
            "   0   0   0   0   0   0   0   0   0   0   0   0   0   0  45 186 253 253 150  27   0   0   0   0   0   0   0   0\n",
            "   0   0   0   0   0   0   0   0   0   0   0   0   0   0   0  16  93 252 253 187   0   0   0   0   0   0   0   0\n",
            "   0   0   0   0   0   0   0   0   0   0   0   0   0   0   0   0   0 249 253 249  64   0   0   0   0   0   0   0\n",
            "   0   0   0   0   0   0   0   0   0   0   0   0   0   0  46 130 183 253 253 207   2   0   0   0   0   0   0   0\n",
            "   0   0   0   0   0   0   0   0   0   0   0   0  39 148 229 253 253 253 250 182   0   0   0   0   0   0   0   0\n",
            "   0   0   0   0   0   0   0   0   0   0  24 114 221 253 253 253 253 201  78   0   0   0   0   0   0   0   0   0\n",
            "   0   0   0   0   0   0   0   0  23  66 213 253 253 253 253 198  81   2   0   0   0   0   0   0   0   0   0   0\n",
            "   0   0   0   0   0   0  18 171 219 253 253 253 253 195  80   9   0   0   0   0   0   0   0   0   0   0   0   0\n",
            "   0   0   0   0  55 172 226 253 253 253 253 244 133  11   0   0   0   0   0   0   0   0   0   0   0   0   0   0\n",
            "   0   0   0   0 136 253 253 253 212 135 132  16   0   0   0   0   0   0   0   0   0   0   0   0   0   0   0   0\n",
            "   0   0   0   0   0   0   0   0   0   0   0   0   0   0   0   0   0   0   0   0   0   0   0   0   0   0   0   0\n",
            "   0   0   0   0   0   0   0   0   0   0   0   0   0   0   0   0   0   0   0   0   0   0   0   0   0   0   0   0\n",
            "   0   0   0   0   0   0   0   0   0   0   0   0   0   0   0   0   0   0   0   0   0   0   0   0   0   0   0   0\n"
          ]
        }
      ]
    },
    {
      "cell_type": "code",
      "source": [
        "from tensorflow.python.keras.utils import np_utils\n"
      ],
      "metadata": {
        "id": "qK8aOVYFv6i1"
      },
      "execution_count": null,
      "outputs": []
    },
    {
      "cell_type": "code",
      "source": [
        "X_train = X_train_0.reshape(X_train_0.shape[0], 28, 28, 1).astype('float32') / 255\n",
        "X_test = X_test_0.reshape(X_test_0.shape[0], 28, 28, 1).astype('float32') / 255\n"
      ],
      "metadata": {
        "id": "Er1l3KXMwCji"
      },
      "execution_count": null,
      "outputs": []
    },
    {
      "cell_type": "code",
      "source": [
        "Y_train = np_utils.to_categorical(Y_train_0, 10)\n",
        "Y_test = np_utils.to_categorical(Y_test_0, 10)\n"
      ],
      "metadata": {
        "id": "7QIqnkgfwQYR"
      },
      "execution_count": null,
      "outputs": []
    },
    {
      "cell_type": "code",
      "source": [
        "from keras.models import Sequential\n",
        "from keras.layers import Dense, Dropout, Flatten, Conv2D, MaxPooling2D\n",
        "from keras.callbacks import ModelCheckpoint, EarlyStopping\n",
        "import os  # 모델을 저장할 디렉터리 확인 및 만들기\n"
      ],
      "metadata": {
        "id": "uJHpvt2HxgWG"
      },
      "execution_count": null,
      "outputs": []
    },
    {
      "cell_type": "code",
      "source": [
        "model = Sequential()\n",
        "model.add(Conv2D(32, kernel_size=(3, 3), input_shape=(28, 28, 1), activation='relu'))\n",
        "model.add(Conv2D(64, (3, 3), activation='relu'))\n",
        "model.add(MaxPooling2D(pool_size=2))\n",
        "model.add(Dropout(0.25))\n",
        "model.add(Flatten())\n",
        "model.add(Dense(128, activation='relu'))\n",
        "model.add(Dropout(0.5))\n",
        "model.add(Dense(10, activation='softmax'))\n"
      ],
      "metadata": {
        "colab": {
          "base_uri": "https://localhost:8080/"
        },
        "id": "WkPk3dJFxawg",
        "outputId": "1d00d131-e808-4211-b847-b81b9b84390a"
      },
      "execution_count": null,
      "outputs": [
        {
          "output_type": "stream",
          "name": "stderr",
          "text": [
            "/usr/local/lib/python3.11/dist-packages/keras/src/layers/convolutional/base_conv.py:113: UserWarning: Do not pass an `input_shape`/`input_dim` argument to a layer. When using Sequential models, prefer using an `Input(shape)` object as the first layer in the model instead.\n",
            "  super().__init__(activity_regularizer=activity_regularizer, **kwargs)\n"
          ]
        }
      ]
    },
    {
      "cell_type": "code",
      "source": [
        "model.compile(loss='categorical_crossentropy',\n",
        "              optimizer='adam', metrics=['accuracy'])\n"
      ],
      "metadata": {
        "id": "csQ7tKjbxmtz"
      },
      "execution_count": null,
      "outputs": []
    },
    {
      "cell_type": "code",
      "source": [],
      "metadata": {
        "id": "7kdCDgZKx4n4"
      },
      "execution_count": null,
      "outputs": []
    },
    {
      "cell_type": "code",
      "source": [
        "MODEL_DIR = '/content/drive/MyDrive/data/숫자 손글씨 이미지 데이터/model/'\n",
        "if not os.path.exists(MODEL_DIR):\n",
        "    os.mkdir(MODEL_DIR)\n"
      ],
      "metadata": {
        "id": "rHwW0g8KxuWs"
      },
      "execution_count": null,
      "outputs": []
    },
    {
      "cell_type": "code",
      "source": [
        "modelpath = \"/content/drive/MyDrive/data/숫자 손글씨 이미지 데이터/model/{epoch:02d}-{val_loss:.4f}.keras\"\n",
        "checkpointer = ModelCheckpoint(filepath=modelpath,\n",
        "                               monitor='val_loss',\n",
        "                               verbose=1,\n",
        "                               save_best_only=True)\n",
        "\n",
        "early_stopping_callback = EarlyStopping(monitor='val_loss', patience=5)"
      ],
      "metadata": {
        "id": "bqb5rwn6yboi"
      },
      "execution_count": null,
      "outputs": []
    },
    {
      "cell_type": "code",
      "source": [
        "history = model.fit(X_train, Y_train,\n",
        "                    validation_data=(X_test, Y_test),\n",
        "                    epochs=30, batch_size=200, verbose=0,\n",
        "                    callbacks=[early_stopping_callback, checkpointer])\n"
      ],
      "metadata": {
        "colab": {
          "base_uri": "https://localhost:8080/"
        },
        "id": "tEimx2bOy9AP",
        "outputId": "e7c2629a-5dc4-4000-80a6-a6ef34c31622"
      },
      "execution_count": null,
      "outputs": [
        {
          "output_type": "stream",
          "name": "stdout",
          "text": [
            "\n",
            "Epoch 1: val_loss improved from inf to 0.05674, saving model to /content/drive/MyDrive/data/숫자 손글씨 이미지 데이터/model/01-0.0567.keras\n",
            "\n",
            "Epoch 2: val_loss improved from 0.05674 to 0.03946, saving model to /content/drive/MyDrive/data/숫자 손글씨 이미지 데이터/model/02-0.0395.keras\n",
            "\n",
            "Epoch 3: val_loss improved from 0.03946 to 0.03207, saving model to /content/drive/MyDrive/data/숫자 손글씨 이미지 데이터/model/03-0.0321.keras\n",
            "\n",
            "Epoch 4: val_loss improved from 0.03207 to 0.03048, saving model to /content/drive/MyDrive/data/숫자 손글씨 이미지 데이터/model/04-0.0305.keras\n",
            "\n",
            "Epoch 5: val_loss improved from 0.03048 to 0.02795, saving model to /content/drive/MyDrive/data/숫자 손글씨 이미지 데이터/model/05-0.0280.keras\n",
            "\n",
            "Epoch 6: val_loss did not improve from 0.02795\n",
            "\n",
            "Epoch 7: val_loss did not improve from 0.02795\n",
            "\n",
            "Epoch 8: val_loss improved from 0.02795 to 0.02686, saving model to /content/drive/MyDrive/data/숫자 손글씨 이미지 데이터/model/08-0.0269.keras\n",
            "\n",
            "Epoch 9: val_loss improved from 0.02686 to 0.02562, saving model to /content/drive/MyDrive/data/숫자 손글씨 이미지 데이터/model/09-0.0256.keras\n",
            "\n",
            "Epoch 10: val_loss did not improve from 0.02562\n",
            "\n",
            "Epoch 11: val_loss did not improve from 0.02562\n",
            "\n",
            "Epoch 12: val_loss did not improve from 0.02562\n",
            "\n",
            "Epoch 13: val_loss did not improve from 0.02562\n",
            "\n",
            "Epoch 14: val_loss did not improve from 0.02562\n"
          ]
        }
      ]
    },
    {
      "cell_type": "code",
      "source": [
        "print(\"\\n Test Accuracy: %.4f\" % (model.evaluate(X_test, Y_test)[1]))\n"
      ],
      "metadata": {
        "colab": {
          "base_uri": "https://localhost:8080/"
        },
        "id": "hi47PNopzFni",
        "outputId": "13d43aa3-2a05-4484-d013-97b31fa3b3ff"
      },
      "execution_count": null,
      "outputs": [
        {
          "output_type": "stream",
          "name": "stdout",
          "text": [
            "\u001b[1m313/313\u001b[0m \u001b[32m━━━━━━━━━━━━━━━━━━━━\u001b[0m\u001b[37m\u001b[0m \u001b[1m8s\u001b[0m 25ms/step - accuracy: 0.9899 - loss: 0.0369\n",
            "\n",
            " Test Accuracy: 0.9916\n"
          ]
        }
      ]
    },
    {
      "cell_type": "code",
      "source": [
        "import numpy as np\n",
        "\n",
        "# 평가 데이터셋의 손실\n",
        "y_vloss = history.history['val_loss']\n",
        "\n",
        "# 학습 데이터셋의 손실\n",
        "y_loss = history.history['loss']\n"
      ],
      "metadata": {
        "id": "0uLSI4zPzK6S"
      },
      "execution_count": null,
      "outputs": []
    },
    {
      "cell_type": "code",
      "source": [
        "x_len = np.arange(len(y_loss))  # 에포크 수만큼 x축 생성\n",
        "\n",
        "# 검증 데이터셋의 손실 그래프 (빨간색)\n",
        "plt.plot(x_len, y_vloss, marker='.', c=\"red\", label='Testset_loss')\n",
        "\n",
        "# 학습 데이터셋의 손실 그래프 (파란색)\n",
        "plt.plot(x_len, y_loss, marker='.', c=\"blue\", label='Trainset_loss')\n",
        "\n",
        "plt.legend(loc='upper right')  # 범례 위치 설정\n",
        "plt.grid()                     # 그리드 추가\n",
        "plt.xlabel('epoch')            # x축 레이블\n",
        "plt.ylabel('loss')             # y축 레이블\n",
        "plt.show()                     # 그래프 출력\n"
      ],
      "metadata": {
        "colab": {
          "base_uri": "https://localhost:8080/",
          "height": 449
        },
        "id": "C3cDyBRUzQie",
        "outputId": "a20048a3-dc42-476f-bf94-324fe3896bac"
      },
      "execution_count": null,
      "outputs": [
        {
          "output_type": "display_data",
          "data": {
            "text/plain": [
              "<Figure size 640x480 with 1 Axes>"
            ],
            "image/png": "[encoded data removed]"
          },
          "metadata": {}
        }
      ]
    },
    {
      "cell_type": "code",
      "source": [
        "test_num = X_train[0].reshape(-1, 28, 28, 1)\n"
      ],
      "metadata": {
        "id": "k3cMxEBLzc_g"
      },
      "execution_count": null,
      "outputs": []
    },
    {
      "cell_type": "code",
      "source": [
        "prediction = model.predict(test_num)\n"
      ],
      "metadata": {
        "colab": {
          "base_uri": "https://localhost:8080/"
        },
        "id": "acSh0m5LzeoQ",
        "outputId": "1612684d-4c30-4f4a-b197-bd77d4ee859f"
      },
      "execution_count": null,
      "outputs": [
        {
          "output_type": "stream",
          "name": "stdout",
          "text": [
            "\u001b[1m1/1\u001b[0m \u001b[32m━━━━━━━━━━━━━━━━━━━━\u001b[0m\u001b[37m\u001b[0m \u001b[1m0s\u001b[0m 99ms/step\n"
          ]
        }
      ]
    },
    {
      "cell_type": "code",
      "source": [
        "print('입력한 이미지는 %f 확률로 %d 입니다!' % (prediction[0, prediction.argmax()], prediction.argmax()))\n"
      ],
      "metadata": {
        "colab": {
          "base_uri": "https://localhost:8080/"
        },
        "id": "o0UeHlwCzgR7",
        "outputId": "7229438f-ff1d-44e0-b28a-05bbf4516837"
      },
      "execution_count": null,
      "outputs": [
        {
          "output_type": "stream",
          "name": "stdout",
          "text": [
            "입력한 이미지는 0.998911 확률로 5 입니다!\n"
          ]
        }
      ]
    },
    {
      "cell_type": "code",
      "source": [
        "from PIL import Image\n"
      ],
      "metadata": {
        "id": "VIQIHFQdziwH"
      },
      "execution_count": null,
      "outputs": []
    },
    {
      "cell_type": "code",
      "source": [
        "test = Image.open('/content/drive/MyDrive/data/숫자 손글씨 이미지 데이터/test7.jpg')\n",
        "test.mode\n"
      ],
      "metadata": {
        "colab": {
          "base_uri": "https://localhost:8080/",
          "height": 301
        },
        "id": "NZ0hS5oSzp5H",
        "outputId": "d8810543-ed38-4633-e97d-7f8eaaaca89c"
      },
      "execution_count": null,
      "outputs": [
        {
          "output_type": "error",
          "ename": "FileNotFoundError",
          "evalue": "[Errno 2] No such file or directory: './14장_data/test7.jpg'",
          "traceback": [
            "\u001b[0;31m---------------------------------------------------------------------------\u001b[0m",
            "\u001b[0;31mFileNotFoundError\u001b[0m                         Traceback (most recent call last)",
            "\u001b[0;32m/tmp/ipython-input-2002386557.py\u001b[0m in \u001b[0;36m<cell line: 0>\u001b[0;34m()\u001b[0m\n\u001b[0;32m----> 1\u001b[0;31m \u001b[0mtest\u001b[0m \u001b[0;34m=\u001b[0m \u001b[0mImage\u001b[0m\u001b[0;34m.\u001b[0m\u001b[0mopen\u001b[0m\u001b[0;34m(\u001b[0m\u001b[0;34m'./14장_data/test7.jpg'\u001b[0m\u001b[0;34m)\u001b[0m\u001b[0;34m\u001b[0m\u001b[0;34m\u001b[0m\u001b[0m\n\u001b[0m\u001b[1;32m      2\u001b[0m \u001b[0mtest\u001b[0m\u001b[0;34m.\u001b[0m\u001b[0mmode\u001b[0m\u001b[0;34m\u001b[0m\u001b[0;34m\u001b[0m\u001b[0m\n",
            "\u001b[0;32m/usr/local/lib/python3.11/dist-packages/PIL/Image.py\u001b[0m in \u001b[0;36mopen\u001b[0;34m(fp, mode, formats)\u001b[0m\n\u001b[1;32m   3511\u001b[0m     \u001b[0;32mif\u001b[0m \u001b[0mis_path\u001b[0m\u001b[0;34m(\u001b[0m\u001b[0mfp\u001b[0m\u001b[0;34m)\u001b[0m\u001b[0;34m:\u001b[0m\u001b[0;34m\u001b[0m\u001b[0;34m\u001b[0m\u001b[0m\n\u001b[1;32m   3512\u001b[0m         \u001b[0mfilename\u001b[0m \u001b[0;34m=\u001b[0m \u001b[0mos\u001b[0m\u001b[0;34m.\u001b[0m\u001b[0mfspath\u001b[0m\u001b[0;34m(\u001b[0m\u001b[0mfp\u001b[0m\u001b[0;34m)\u001b[0m\u001b[0;34m\u001b[0m\u001b[0;34m\u001b[0m\u001b[0m\n\u001b[0;32m-> 3513\u001b[0;31m         \u001b[0mfp\u001b[0m \u001b[0;34m=\u001b[0m \u001b[0mbuiltins\u001b[0m\u001b[0;34m.\u001b[0m\u001b[0mopen\u001b[0m\u001b[0;34m(\u001b[0m\u001b[0mfilename\u001b[0m\u001b[0;34m,\u001b[0m \u001b[0;34m\"rb\"\u001b[0m\u001b[0;34m)\u001b[0m\u001b[0;34m\u001b[0m\u001b[0;34m\u001b[0m\u001b[0m\n\u001b[0m\u001b[1;32m   3514\u001b[0m         \u001b[0mexclusive_fp\u001b[0m \u001b[0;34m=\u001b[0m \u001b[0;32mTrue\u001b[0m\u001b[0;34m\u001b[0m\u001b[0;34m\u001b[0m\u001b[0m\n\u001b[1;32m   3515\u001b[0m     \u001b[0;32melse\u001b[0m\u001b[0;34m:\u001b[0m\u001b[0;34m\u001b[0m\u001b[0;34m\u001b[0m\u001b[0m\n",
            "\u001b[0;31mFileNotFoundError\u001b[0m: [Errno 2] No such file or directory: './14장_data/test7.jpg'"
          ]
        }
      ]
    },
    {
      "cell_type": "code",
      "source": [
        "test_gray = test.convert(\"L\")\n",
        "test_gray.mode\n"
      ],
      "metadata": {
        "id": "QoIBEgcMzsfT"
      },
      "execution_count": null,
      "outputs": []
    },
    {
      "cell_type": "code",
      "source": [
        "test_gray  # 확인용 이미지 출력\n"
      ],
      "metadata": {
        "id": "IL72xhDmz7hg"
      },
      "execution_count": null,
      "outputs": []
    },
    {
      "cell_type": "code",
      "source": [
        "test_gray = test_gray.resize((28, 28))\n"
      ],
      "metadata": {
        "id": "62GGEsx2z8Pf"
      },
      "execution_count": null,
      "outputs": []
    },
    {
      "cell_type": "code",
      "source": [
        "test_data = np.asarray(test_gray)\n",
        "\n",
        "for x in test_data:\n",
        "    for i in x:\n",
        "        sys.stdout.write('%4d' % i)\n",
        "    sys.stdout.write('\\n')\n"
      ],
      "metadata": {
        "id": "OkeX9qQU0Koz"
      },
      "execution_count": null,
      "outputs": []
    },
    {
      "cell_type": "code",
      "source": [
        "plt.imshow(test_data, cmap='Greys')\n",
        "plt.show()\n"
      ],
      "metadata": {
        "id": "v5pDY2J-0U-S"
      },
      "execution_count": null,
      "outputs": []
    },
    {
      "cell_type": "code",
      "source": [
        "test_data_v = []\n",
        "\n",
        "for i in range(28):\n",
        "    row = []\n",
        "    for j in range(28):\n",
        "        row.append(255 - test_data[i][j])  # 반전\n",
        "    test_data_v.append(row)\n"
      ],
      "metadata": {
        "id": "wy53sxVf0bV5"
      },
      "execution_count": null,
      "outputs": []
    },
    {
      "cell_type": "code",
      "source": [
        "for x in test_data_v:\n",
        "    for i in x:\n",
        "        sys.stdout.write('%4d' % i)\n",
        "    sys.stdout.write('\\n')\n"
      ],
      "metadata": {
        "id": "2g1A_lM10eV1"
      },
      "execution_count": null,
      "outputs": []
    },
    {
      "cell_type": "code",
      "source": [
        "plt.imshow(test_data_v, cmap='Greys')\n",
        "plt.show()"
      ],
      "metadata": {
        "id": "PThc09190sF3"
      },
      "execution_count": null,
      "outputs": []
    },
    {
      "cell_type": "code",
      "source": [
        "test_data_v2 = np.asarray(test_data_v)                          # 리스트를 배열로 변환\n",
        "test_data_v2 = test_data_v2.reshape(-1, 28, 28, 1).astype('float32') / 255\n",
        "\n",
        "test_data_v2.shape"
      ],
      "metadata": {
        "id": "APeQmxFF04K0"
      },
      "execution_count": null,
      "outputs": []
    },
    {
      "cell_type": "code",
      "source": [
        "prediction_new = model.predict(test_data_v2)\n",
        "prediction_new"
      ],
      "metadata": {
        "id": "KnQBWdIj06k2"
      },
      "execution_count": null,
      "outputs": []
    },
    {
      "cell_type": "code",
      "source": [
        "test_class = prediction_new.argmax()\n",
        "\n",
        "print('입력한 이미지는 %f 확률로 %d 입니다!' % (prediction_new[0, test_class]*100, test_class))\n"
      ],
      "metadata": {
        "id": "n82HBSUj1M9a"
      },
      "execution_count": null,
      "outputs": []
    }
  ]
}